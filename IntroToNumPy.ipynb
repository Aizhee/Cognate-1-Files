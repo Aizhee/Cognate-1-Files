{
 "cells": [
  {
   "cell_type": "markdown",
   "metadata": {},
   "source": [
    "# Introduction to Numpy\n",
    "Aizhar Jamilano\n",
    "BSCpE III-GF"
   ]
  },
  {
   "cell_type": "code",
   "execution_count": 1,
   "metadata": {},
   "outputs": [],
   "source": [
    "# Introduction to Numpy\n",
    "import numpy as np\n",
    "\n",
    "# Create a 1D array \n",
    "arr_1d = np.array([1, 2, 3, 4, 5])\n",
    "\n",
    "# Create a 2D array\n",
    "arr_2d = np.array([[1, 2, 3], [4, 5, 6]])\n",
    "\n",
    "print(\"1D Array:\", arr_1d)\n",
    "print(\"2D Array:\", arr_2d)"
   ]
  },
  {
   "cell_type": "code",
   "execution_count": null,
   "metadata": {},
   "outputs": [],
   "source": [
    "# Basic Array Operations\n",
    "\n",
    "# Create a 1D array \n",
    "arr_1d = np.array([1, 2, 3, 4, 5])\n",
    "\n",
    "# Create a 2D array\n",
    "arr_2d = np.array([[1, 2, 3], [4, 5, 6]])\n",
    "\n",
    "# Perform element-wise addition, subtraction, multiplication, and division on the arrays arr_1d and arr_2d\n",
    "arr_1d_add = arr_1d + 1\n",
    "arr_1d_sub = arr_1d - 1\n",
    "arr_1d_mul = arr_1d * 2\n",
    "arr_1d_div = arr_1d / 2\n",
    "\n",
    "arr_2d_add = arr_2d + 1\n",
    "arr_2d_sub = arr_2d - 1\n",
    "arr_2d_mul = arr_2d * 2\n",
    "arr_2d_div = arr_2d / 2\n",
    "\n",
    "# Use array indexing and slicing to extract specific elements or subarrays\n",
    "# element wise addition\n",
    "arr_sum = arr_1d + 5 #Adds 5 to each element in the array\n",
    "print(\"Element-wise addition:\", arr_sum)"
   ]
  },
  {
   "cell_type": "code",
   "execution_count": null,
   "metadata": {},
   "outputs": [],
   "source": [
    "# 3. Reshaping and Transposing Arrays\n",
    "\n",
    "# use reshape() to change the sape of an array \n",
    "# use transpose() to switch rows and columns of an 2D array \n",
    "\n",
    "# Reshape 1D array to a 2D array\n",
    "reshaped_arr = arr_1d.reshape((5,1))\n",
    "print(\"Reshaped 1D Array to 2D array:\\n\",reshaped_arr)\n",
    "\n",
    "#Transpose the 2D array \n",
    "transposed_arr = arr_2d.transpose()\n",
    "print(\"Transposed 2D Array:\\n\",transposed_arr)\n",
    "\n",
    "#Array indexing and slicing \n",
    "print(\"First element of 1D Array:\", arr_1d[0]) #Access first element\n",
    "print(\"Second row of 2D Array:\", arr_2d[1,:]) #Access second row"
   ]
  },
  {
   "cell_type": "markdown",
   "metadata": {},
   "source": [
    "## Activity:\n",
    " - Create a 3x3 NumPy Array with values ranging from 1-9.\n",
    " - Find the sum, mean, and standard deviation of the array.\n",
    " - Extract the subarray that consists of the teo rows and first two columns."
   ]
  },
  {
   "cell_type": "code",
   "execution_count": 3,
   "metadata": {},
   "outputs": [
    {
     "name": "stdout",
     "output_type": "stream",
     "text": [
      "3x3 Array:\n",
      " [[1 2 3]\n",
      " [4 5 6]\n",
      " [7 8 9]]\n",
      "\n",
      "\n",
      "Sum: 45\n",
      "Mean: 5.0\n",
      "Standard Deviation: 2.581988897471611\n",
      "\n",
      "\n",
      "Subarray:\n",
      " [[1 2]\n",
      " [4 5]]\n"
     ]
    }
   ],
   "source": [
    "# Create a 3x3 NumPy Array with values ranging from 1-9.\n",
    "arr_3x3 = np.arange(1, 10).reshape(3, 3)\n",
    "\n",
    "print(\"3x3 Array:\\n\", arr_3x3)\n",
    "\n",
    "# Find the sum, mean, and standard deviation of the array.\n",
    "arr_sum = np.sum(arr_3x3)\n",
    "arr_mean = np.mean(arr_3x3)\n",
    "arr_std = np.std(arr_3x3)\n",
    "\n",
    "print(\"\\n\")\n",
    "print(\"Sum:\", arr_sum)\n",
    "print(\"Mean:\", arr_mean)\n",
    "print(\"Standard Deviation:\", arr_std)\n",
    "\n",
    "# Extract the subarray that consists of the two rows and first two columns.\n",
    "subarray = arr_3x3[:2, :2]\n",
    "print(\"\\n\")\n",
    "print(\"Subarray:\\n\", subarray)\n"
   ]
  }
 ],
 "metadata": {
  "kernelspec": {
   "display_name": "Python 3",
   "language": "python",
   "name": "python3"
  },
  "language_info": {
   "codemirror_mode": {
    "name": "ipython",
    "version": 3
   },
   "file_extension": ".py",
   "mimetype": "text/x-python",
   "name": "python",
   "nbconvert_exporter": "python",
   "pygments_lexer": "ipython3",
   "version": "3.10.11"
  }
 },
 "nbformat": 4,
 "nbformat_minor": 2
}
