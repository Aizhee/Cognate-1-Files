{
 "cells": [
  {
   "cell_type": "code",
   "execution_count": 38,
   "metadata": {},
   "outputs": [],
   "source": [
    "str = \"Hello\"\n",
    "bring = \" World\"\n",
    "x=1\n",
    "y=2\n",
    "Numbers = [1,3,4,5] #List \n",
    "Numbers2 = [6,7,8,9]\n",
    "\n",
    "#dictionary\n",
    "dict1 = {\"a\":1,\"b\":2,\"c\":3,\"d\":4,\"e\":5,\"f\":6,\"g\":7}\n"
   ]
  },
  {
   "cell_type": "markdown",
   "metadata": {},
   "source": [
    "# 17/09/2024 **Python Basics**"
   ]
  },
  {
   "cell_type": "code",
   "execution_count": 39,
   "metadata": {},
   "outputs": [],
   "source": [
    "#Unnamed lambda function\n",
    "add = lambda x, y: x + y  \n",
    "#filtering \n",
    "filterednum = list(filter(lambda x: x > 15, map(lambda x,y: (x+y)**2, Numbers, Numbers2)))\n",
    "#Dictionary\n",
    "returnIn = dict1[\"g\"]\n",
    "#Array\n",
    "Arr = [[1],[2],[3],[4]]\n",
    "\n",
    "def callFind():\n",
    "    print(f\"{str+bring}\")\n",
    "    print(add(x,y))\n",
    "    print(filterednum)\n",
    "    print(returnIn)    "
   ]
  },
  {
   "cell_type": "code",
   "execution_count": 40,
   "metadata": {},
   "outputs": [
    {
     "name": "stdout",
     "output_type": "stream",
     "text": [
      "Hello World\n",
      "3\n",
      "[49, 100, 144, 196]\n",
      "7\n"
     ]
    }
   ],
   "source": [
    "callFind()"
   ]
  },
  {
   "cell_type": "markdown",
   "metadata": {},
   "source": [
    "## NUMPY"
   ]
  },
  {
   "cell_type": "code",
   "execution_count": 1,
   "metadata": {},
   "outputs": [],
   "source": [
    "import numpy as np"
   ]
  },
  {
   "cell_type": "markdown",
   "metadata": {},
   "source": [
    "# matrix"
   ]
  },
  {
   "cell_type": "code",
   "execution_count": 2,
   "metadata": {},
   "outputs": [
    {
     "name": "stdout",
     "output_type": "stream",
     "text": [
      "[[1 2 3]\n",
      " [4 5 6]\n",
      " [7 8 9]]\n"
     ]
    }
   ],
   "source": [
    "list1 = [[1,2,3],[4,5,6],[7,8,9]]\n",
    "array1 = np.array(list1)\n",
    "print (array1)"
   ]
  },
  {
   "cell_type": "code",
   "execution_count": 3,
   "metadata": {},
   "outputs": [
    {
     "data": {
      "text/plain": [
       "array([[0., 0., 0., 0., 0.],\n",
       "       [0., 0., 0., 0., 0.],\n",
       "       [0., 0., 0., 0., 0.],\n",
       "       [0., 0., 0., 0., 0.],\n",
       "       [0., 0., 0., 0., 0.]])"
      ]
     },
     "execution_count": 3,
     "metadata": {},
     "output_type": "execute_result"
    }
   ],
   "source": [
    "#synthetic array\n",
    "np.arange(10)\n",
    "#row-column\n",
    "np.zeros((5,5))\n"
   ]
  },
  {
   "cell_type": "code",
   "execution_count": 4,
   "metadata": {},
   "outputs": [
    {
     "data": {
      "text/plain": [
       "array([ 0.        ,  3.33333333,  6.66666667, 10.        , 13.33333333,\n",
       "       16.66666667, 20.        ])"
      ]
     },
     "execution_count": 4,
     "metadata": {},
     "output_type": "execute_result"
    }
   ],
   "source": [
    "np.linspace(0,20,7)\n",
    "#make a num from 0-20, with the space of 7\n",
    "#7.0000000"
   ]
  },
  {
   "cell_type": "code",
   "execution_count": 5,
   "metadata": {},
   "outputs": [
    {
     "data": {
      "text/plain": [
       "array([[1., 0., 0., 0., 0.],\n",
       "       [0., 1., 0., 0., 0.],\n",
       "       [0., 0., 1., 0., 0.],\n",
       "       [0., 0., 0., 1., 0.],\n",
       "       [0., 0., 0., 0., 1.]])"
      ]
     },
     "execution_count": 5,
     "metadata": {},
     "output_type": "execute_result"
    }
   ],
   "source": [
    "#eye horizontal 1\n",
    "np.eye(5)"
   ]
  },
  {
   "cell_type": "code",
   "execution_count": 11,
   "metadata": {},
   "outputs": [
    {
     "data": {
      "text/plain": [
       "array([[0.97343559, 0.23312685, 0.61797542],\n",
       "       [0.94920563, 0.88058208, 0.63786667]])"
      ]
     },
     "execution_count": 11,
     "metadata": {},
     "output_type": "execute_result"
    }
   ],
   "source": [
    "#random\n",
    "np.random.rand(2,3)\n",
    "\n",
    "#randn \"standard normal\" distribution (bell curve)\n",
    "np.random.randn(2,3)"
   ]
  },
  {
   "cell_type": "code",
   "execution_count": 12,
   "metadata": {},
   "outputs": [
    {
     "data": {
      "text/plain": [
       "array([2, 9, 7])"
      ]
     },
     "execution_count": 12,
     "metadata": {},
     "output_type": "execute_result"
    }
   ],
   "source": [
    "#randomint\n",
    "np.random.randint(1,10,3) #random integer between 1-10 3 numbers"
   ]
  },
  {
   "cell_type": "code",
   "execution_count": 15,
   "metadata": {},
   "outputs": [
    {
     "data": {
      "text/plain": [
       "array([[3, 8],\n",
       "       [6, 4],\n",
       "       [7, 2],\n",
       "       [8, 1],\n",
       "       [5, 8],\n",
       "       [7, 2],\n",
       "       [5, 3],\n",
       "       [2, 2],\n",
       "       [7, 1],\n",
       "       [2, 6],\n",
       "       [8, 6],\n",
       "       [6, 6],\n",
       "       [7, 9],\n",
       "       [4, 6],\n",
       "       [8, 2],\n",
       "       [8, 9],\n",
       "       [2, 1],\n",
       "       [3, 7],\n",
       "       [7, 6],\n",
       "       [6, 7]])"
      ]
     },
     "execution_count": 15,
     "metadata": {},
     "output_type": "execute_result"
    }
   ],
   "source": [
    "#reshape\n",
    "\n",
    "reshape = np.random.randint(1,10,40) #random integer between 1-10 3 numbers\n",
    "reshape.reshape(20,2)# regroup by 2 "
   ]
  },
  {
   "cell_type": "code",
   "execution_count": null,
   "metadata": {},
   "outputs": [],
   "source": [
    "# bro is MIN MAXing \n",
    "#max\n",
    "\n",
    "#mix \n",
    "\n",
    "#argmin return index\n",
    "\n",
    "#argmax return index\n",
    "\n",
    "\n",
    "\n"
   ]
  },
  {
   "cell_type": "code",
   "execution_count": 18,
   "metadata": {},
   "outputs": [
    {
     "data": {
      "text/plain": [
       "(2,)"
      ]
     },
     "execution_count": 18,
     "metadata": {},
     "output_type": "execute_result"
    }
   ],
   "source": [
    "#shape\n",
    "new_arr = np.random.randint(0,10,2)\n",
    "new_arr.shape"
   ]
  },
  {
   "cell_type": "code",
   "execution_count": 21,
   "metadata": {},
   "outputs": [
    {
     "data": {
      "text/plain": [
       "array([], shape=(0, 10), dtype=float64)"
      ]
     },
     "execution_count": 21,
     "metadata": {},
     "output_type": "execute_result"
    }
   ],
   "source": [
    "#colon\n",
    "new_arr = np.random.rand(0,10)\n",
    "new_arr[:3]"
   ]
  },
  {
   "cell_type": "markdown",
   "metadata": {},
   "source": [
    "# Pandas"
   ]
  },
  {
   "cell_type": "code",
   "execution_count": 49,
   "metadata": {},
   "outputs": [
    {
     "data": {
      "text/html": [
       "<div>\n",
       "<style scoped>\n",
       "    .dataframe tbody tr th:only-of-type {\n",
       "        vertical-align: middle;\n",
       "    }\n",
       "\n",
       "    .dataframe tbody tr th {\n",
       "        vertical-align: top;\n",
       "    }\n",
       "\n",
       "    .dataframe thead th {\n",
       "        text-align: right;\n",
       "    }\n",
       "</style>\n",
       "<table border=\"1\" class=\"dataframe\">\n",
       "  <thead>\n",
       "    <tr style=\"text-align: right;\">\n",
       "      <th></th>\n",
       "      <th>California a</th>\n",
       "      <th>New Yorks</th>\n",
       "      <th>Texas</th>\n",
       "      <th>Ohio</th>\n",
       "      <th>Florida</th>\n",
       "      <th>Jersey</th>\n",
       "      <th>California b</th>\n",
       "      <th>California c</th>\n",
       "      <th>California d</th>\n",
       "      <th>California e</th>\n",
       "      <th>dan</th>\n",
       "    </tr>\n",
       "  </thead>\n",
       "  <tbody>\n",
       "    <tr>\n",
       "      <th>1</th>\n",
       "      <td>0.318579</td>\n",
       "      <td>0.903411</td>\n",
       "      <td>0.959421</td>\n",
       "      <td>0.053151</td>\n",
       "      <td>0.419087</td>\n",
       "      <td>0.433221</td>\n",
       "      <td>0.599533</td>\n",
       "      <td>0.050285</td>\n",
       "      <td>0.495964</td>\n",
       "      <td>0.023482</td>\n",
       "      <td>1.806823</td>\n",
       "    </tr>\n",
       "    <tr>\n",
       "      <th>2</th>\n",
       "      <td>0.226765</td>\n",
       "      <td>0.166794</td>\n",
       "      <td>0.990652</td>\n",
       "      <td>0.139098</td>\n",
       "      <td>0.989347</td>\n",
       "      <td>0.183520</td>\n",
       "      <td>0.915099</td>\n",
       "      <td>0.668978</td>\n",
       "      <td>0.475911</td>\n",
       "      <td>0.330202</td>\n",
       "      <td>0.333589</td>\n",
       "    </tr>\n",
       "    <tr>\n",
       "      <th>3</th>\n",
       "      <td>0.880959</td>\n",
       "      <td>0.920972</td>\n",
       "      <td>0.055087</td>\n",
       "      <td>0.510124</td>\n",
       "      <td>0.557209</td>\n",
       "      <td>0.801825</td>\n",
       "      <td>0.818704</td>\n",
       "      <td>0.799268</td>\n",
       "      <td>0.886187</td>\n",
       "      <td>0.702291</td>\n",
       "      <td>1.841944</td>\n",
       "    </tr>\n",
       "    <tr>\n",
       "      <th>4</th>\n",
       "      <td>0.649066</td>\n",
       "      <td>0.804961</td>\n",
       "      <td>0.616074</td>\n",
       "      <td>0.031837</td>\n",
       "      <td>0.767725</td>\n",
       "      <td>0.870886</td>\n",
       "      <td>0.579253</td>\n",
       "      <td>0.294616</td>\n",
       "      <td>0.472823</td>\n",
       "      <td>0.991242</td>\n",
       "      <td>1.609921</td>\n",
       "    </tr>\n",
       "    <tr>\n",
       "      <th>5</th>\n",
       "      <td>0.610842</td>\n",
       "      <td>0.775545</td>\n",
       "      <td>0.463512</td>\n",
       "      <td>0.599578</td>\n",
       "      <td>0.425008</td>\n",
       "      <td>0.937373</td>\n",
       "      <td>0.862477</td>\n",
       "      <td>0.659382</td>\n",
       "      <td>0.362637</td>\n",
       "      <td>0.714679</td>\n",
       "      <td>1.551089</td>\n",
       "    </tr>\n",
       "    <tr>\n",
       "      <th>6</th>\n",
       "      <td>0.045642</td>\n",
       "      <td>0.891948</td>\n",
       "      <td>0.410916</td>\n",
       "      <td>0.241897</td>\n",
       "      <td>0.937895</td>\n",
       "      <td>0.412789</td>\n",
       "      <td>0.657785</td>\n",
       "      <td>0.354674</td>\n",
       "      <td>0.542821</td>\n",
       "      <td>0.850279</td>\n",
       "      <td>1.783897</td>\n",
       "    </tr>\n",
       "    <tr>\n",
       "      <th>7</th>\n",
       "      <td>0.696323</td>\n",
       "      <td>0.600632</td>\n",
       "      <td>0.319048</td>\n",
       "      <td>0.887240</td>\n",
       "      <td>0.102774</td>\n",
       "      <td>0.122855</td>\n",
       "      <td>0.234280</td>\n",
       "      <td>0.102629</td>\n",
       "      <td>0.442220</td>\n",
       "      <td>0.204095</td>\n",
       "      <td>1.201265</td>\n",
       "    </tr>\n",
       "    <tr>\n",
       "      <th>8</th>\n",
       "      <td>0.860554</td>\n",
       "      <td>0.438719</td>\n",
       "      <td>0.535223</td>\n",
       "      <td>0.445269</td>\n",
       "      <td>0.217149</td>\n",
       "      <td>0.885897</td>\n",
       "      <td>0.326680</td>\n",
       "      <td>0.248452</td>\n",
       "      <td>0.273770</td>\n",
       "      <td>0.484976</td>\n",
       "      <td>0.877438</td>\n",
       "    </tr>\n",
       "    <tr>\n",
       "      <th>9</th>\n",
       "      <td>0.286687</td>\n",
       "      <td>0.622132</td>\n",
       "      <td>0.249242</td>\n",
       "      <td>0.694416</td>\n",
       "      <td>0.808376</td>\n",
       "      <td>0.693757</td>\n",
       "      <td>0.466524</td>\n",
       "      <td>0.840856</td>\n",
       "      <td>0.462769</td>\n",
       "      <td>0.083033</td>\n",
       "      <td>1.244264</td>\n",
       "    </tr>\n",
       "    <tr>\n",
       "      <th>0</th>\n",
       "      <td>0.391035</td>\n",
       "      <td>0.556346</td>\n",
       "      <td>0.638568</td>\n",
       "      <td>0.126050</td>\n",
       "      <td>0.571382</td>\n",
       "      <td>0.331769</td>\n",
       "      <td>0.722206</td>\n",
       "      <td>0.746137</td>\n",
       "      <td>0.422274</td>\n",
       "      <td>0.893347</td>\n",
       "      <td>1.112692</td>\n",
       "    </tr>\n",
       "  </tbody>\n",
       "</table>\n",
       "</div>"
      ],
      "text/plain": [
       "   California a  New Yorks     Texas      Ohio   Florida    Jersey  \\\n",
       "1      0.318579   0.903411  0.959421  0.053151  0.419087  0.433221   \n",
       "2      0.226765   0.166794  0.990652  0.139098  0.989347  0.183520   \n",
       "3      0.880959   0.920972  0.055087  0.510124  0.557209  0.801825   \n",
       "4      0.649066   0.804961  0.616074  0.031837  0.767725  0.870886   \n",
       "5      0.610842   0.775545  0.463512  0.599578  0.425008  0.937373   \n",
       "6      0.045642   0.891948  0.410916  0.241897  0.937895  0.412789   \n",
       "7      0.696323   0.600632  0.319048  0.887240  0.102774  0.122855   \n",
       "8      0.860554   0.438719  0.535223  0.445269  0.217149  0.885897   \n",
       "9      0.286687   0.622132  0.249242  0.694416  0.808376  0.693757   \n",
       "0      0.391035   0.556346  0.638568  0.126050  0.571382  0.331769   \n",
       "\n",
       "   California b  California c  California d  California e       dan  \n",
       "1      0.599533      0.050285      0.495964      0.023482  1.806823  \n",
       "2      0.915099      0.668978      0.475911      0.330202  0.333589  \n",
       "3      0.818704      0.799268      0.886187      0.702291  1.841944  \n",
       "4      0.579253      0.294616      0.472823      0.991242  1.609921  \n",
       "5      0.862477      0.659382      0.362637      0.714679  1.551089  \n",
       "6      0.657785      0.354674      0.542821      0.850279  1.783897  \n",
       "7      0.234280      0.102629      0.442220      0.204095  1.201265  \n",
       "8      0.326680      0.248452      0.273770      0.484976  0.877438  \n",
       "9      0.466524      0.840856      0.462769      0.083033  1.244264  \n",
       "0      0.722206      0.746137      0.422274      0.893347  1.112692  "
      ]
     },
     "execution_count": 49,
     "metadata": {},
     "output_type": "execute_result"
    }
   ],
   "source": [
    "import pandas as pn\n",
    "import numpy as np\n",
    "\n",
    "#data frame is a bunch of series ig\n",
    "\n",
    "np_arr = np.array([0.25,0.5,0.75,1]) # numpy array\n",
    "\n",
    "data = pn.Series(np_arr)\n",
    "\n",
    "data.rename(\"x\") #rename column\n",
    "\n",
    "#data.index #reveal deets\n",
    "data[:2]\n",
    "\n",
    "pupDict1 = {\n",
    "    'California': 234234,\n",
    "    'New York': 244234,\n",
    "    'Texas': 234234,\n",
    "}\n",
    "\n",
    "pupDict = {\n",
    "    'Ohio': 234236,\n",
    "    'Florida': 238234,\n",
    "    'Jersey': 734234,\n",
    "}\n",
    "seriesPop1 = pn.Series(pupDict1)\n",
    "\n",
    "seriesPop2 = pn.Series(pupDict)\n",
    "\n",
    "seriesPop1 + seriesPop2\n",
    "\n",
    "df = pn.DataFrame(np.random.rand(10,10), index=(1,2,3,4,5,6,7,8,9,0), columns=('California a','New Yorks','Texas','Ohio','Florida','Jersey','California b','California c','California d','California e'))\n",
    "\n",
    "df['dan'] = df['New Yorks']*2\n",
    "\n",
    "df"
   ]
  },
  {
   "cell_type": "markdown",
   "metadata": {},
   "source": [
    "# Resetting annd setting index"
   ]
  },
  {
   "cell_type": "code",
   "execution_count": 2,
   "metadata": {},
   "outputs": [
    {
     "data": {
      "text/html": [
       "<div>\n",
       "<style scoped>\n",
       "    .dataframe tbody tr th:only-of-type {\n",
       "        vertical-align: middle;\n",
       "    }\n",
       "\n",
       "    .dataframe tbody tr th {\n",
       "        vertical-align: top;\n",
       "    }\n",
       "\n",
       "    .dataframe thead th {\n",
       "        text-align: right;\n",
       "    }\n",
       "</style>\n",
       "<table border=\"1\" class=\"dataframe\">\n",
       "  <thead>\n",
       "    <tr style=\"text-align: right;\">\n",
       "      <th></th>\n",
       "      <th>C1</th>\n",
       "      <th>C2</th>\n",
       "      <th>C3</th>\n",
       "      <th>C4</th>\n",
       "      <th>C5</th>\n",
       "    </tr>\n",
       "  </thead>\n",
       "  <tbody>\n",
       "    <tr>\n",
       "      <th>R1</th>\n",
       "      <td>8</td>\n",
       "      <td>3</td>\n",
       "      <td>7</td>\n",
       "      <td>15</td>\n",
       "      <td>16</td>\n",
       "    </tr>\n",
       "    <tr>\n",
       "      <th>R2</th>\n",
       "      <td>10</td>\n",
       "      <td>2</td>\n",
       "      <td>2</td>\n",
       "      <td>2</td>\n",
       "      <td>14</td>\n",
       "    </tr>\n",
       "    <tr>\n",
       "      <th>R3</th>\n",
       "      <td>2</td>\n",
       "      <td>17</td>\n",
       "      <td>16</td>\n",
       "      <td>15</td>\n",
       "      <td>4</td>\n",
       "    </tr>\n",
       "    <tr>\n",
       "      <th>R4</th>\n",
       "      <td>11</td>\n",
       "      <td>16</td>\n",
       "      <td>9</td>\n",
       "      <td>2</td>\n",
       "      <td>12</td>\n",
       "    </tr>\n",
       "    <tr>\n",
       "      <th>R5</th>\n",
       "      <td>4</td>\n",
       "      <td>1</td>\n",
       "      <td>13</td>\n",
       "      <td>19</td>\n",
       "      <td>4</td>\n",
       "    </tr>\n",
       "  </tbody>\n",
       "</table>\n",
       "</div>"
      ],
      "text/plain": [
       "    C1  C2  C3  C4  C5\n",
       "R1   8   3   7  15  16\n",
       "R2  10   2   2   2  14\n",
       "R3   2  17  16  15   4\n",
       "R4  11  16   9   2  12\n",
       "R5   4   1  13  19   4"
      ]
     },
     "execution_count": 2,
     "metadata": {},
     "output_type": "execute_result"
    }
   ],
   "source": [
    "import pandas as pn\n",
    "import numpy as np\n",
    "\n",
    "np.random.seed(100) #Random seeding for idk \n",
    "df = pn.DataFrame(np.random.randint(0,20,(5,5)),\n",
    "                  'R1 R2 R3 R4 R5'.split(), #for splitting type on to list separated by space\n",
    "                  'C1 C2 C3 C4 C5'.split(),\n",
    "                  )\n",
    "df"
   ]
  },
  {
   "cell_type": "markdown",
   "metadata": {},
   "source": [
    "Using .reset_index()\n"
   ]
  },
  {
   "cell_type": "code",
   "execution_count": 7,
   "metadata": {},
   "outputs": [
    {
     "data": {
      "text/html": [
       "<div>\n",
       "<style scoped>\n",
       "    .dataframe tbody tr th:only-of-type {\n",
       "        vertical-align: middle;\n",
       "    }\n",
       "\n",
       "    .dataframe tbody tr th {\n",
       "        vertical-align: top;\n",
       "    }\n",
       "\n",
       "    .dataframe thead th {\n",
       "        text-align: right;\n",
       "    }\n",
       "</style>\n",
       "<table border=\"1\" class=\"dataframe\">\n",
       "  <thead>\n",
       "    <tr style=\"text-align: right;\">\n",
       "      <th></th>\n",
       "      <th>C1</th>\n",
       "      <th>C2</th>\n",
       "      <th>C3</th>\n",
       "      <th>C4</th>\n",
       "      <th>C5</th>\n",
       "    </tr>\n",
       "  </thead>\n",
       "  <tbody>\n",
       "    <tr>\n",
       "      <th>0</th>\n",
       "      <td>8</td>\n",
       "      <td>3</td>\n",
       "      <td>7</td>\n",
       "      <td>15</td>\n",
       "      <td>16</td>\n",
       "    </tr>\n",
       "    <tr>\n",
       "      <th>1</th>\n",
       "      <td>10</td>\n",
       "      <td>2</td>\n",
       "      <td>2</td>\n",
       "      <td>2</td>\n",
       "      <td>14</td>\n",
       "    </tr>\n",
       "    <tr>\n",
       "      <th>2</th>\n",
       "      <td>2</td>\n",
       "      <td>17</td>\n",
       "      <td>16</td>\n",
       "      <td>15</td>\n",
       "      <td>4</td>\n",
       "    </tr>\n",
       "    <tr>\n",
       "      <th>3</th>\n",
       "      <td>11</td>\n",
       "      <td>16</td>\n",
       "      <td>9</td>\n",
       "      <td>2</td>\n",
       "      <td>12</td>\n",
       "    </tr>\n",
       "    <tr>\n",
       "      <th>4</th>\n",
       "      <td>4</td>\n",
       "      <td>1</td>\n",
       "      <td>13</td>\n",
       "      <td>19</td>\n",
       "      <td>4</td>\n",
       "    </tr>\n",
       "  </tbody>\n",
       "</table>\n",
       "</div>"
      ],
      "text/plain": [
       "   C1  C2  C3  C4  C5\n",
       "0   8   3   7  15  16\n",
       "1  10   2   2   2  14\n",
       "2   2  17  16  15   4\n",
       "3  11  16   9   2  12\n",
       "4   4   1  13  19   4"
      ]
     },
     "execution_count": 7,
     "metadata": {},
     "output_type": "execute_result"
    }
   ],
   "source": [
    "\n",
    "df= df.reset_index(drop=True)\n",
    "df"
   ]
  },
  {
   "cell_type": "markdown",
   "metadata": {},
   "source": [
    "# Composite index\n",
    "\n",
    ".loc = locatui vs .iloc"
   ]
  },
  {
   "cell_type": "code",
   "execution_count": 8,
   "metadata": {},
   "outputs": [
    {
     "data": {
      "text/html": [
       "<div>\n",
       "<style scoped>\n",
       "    .dataframe tbody tr th:only-of-type {\n",
       "        vertical-align: middle;\n",
       "    }\n",
       "\n",
       "    .dataframe tbody tr th {\n",
       "        vertical-align: top;\n",
       "    }\n",
       "\n",
       "    .dataframe thead th {\n",
       "        text-align: right;\n",
       "    }\n",
       "</style>\n",
       "<table border=\"1\" class=\"dataframe\">\n",
       "  <thead>\n",
       "    <tr style=\"text-align: right;\">\n",
       "      <th></th>\n",
       "      <th>C2</th>\n",
       "      <th>C4</th>\n",
       "    </tr>\n",
       "  </thead>\n",
       "  <tbody>\n",
       "    <tr>\n",
       "      <th>1</th>\n",
       "      <td>2</td>\n",
       "      <td>2</td>\n",
       "    </tr>\n",
       "    <tr>\n",
       "      <th>4</th>\n",
       "      <td>1</td>\n",
       "      <td>19</td>\n",
       "    </tr>\n",
       "  </tbody>\n",
       "</table>\n",
       "</div>"
      ],
      "text/plain": [
       "   C2  C4\n",
       "1   2   2\n",
       "4   1  19"
      ]
     },
     "execution_count": 8,
     "metadata": {},
     "output_type": "execute_result"
    }
   ],
   "source": [
    "df.iloc[[1,4],[1,3]]"
   ]
  },
  {
   "cell_type": "code",
   "execution_count": null,
   "metadata": {},
   "outputs": [],
   "source": [
    "# Huawei  /  Comptiat / both \n",
    "#Google Cloud "
   ]
  },
  {
   "cell_type": "code",
   "execution_count": 19,
   "metadata": {},
   "outputs": [
    {
     "data": {
      "text/plain": [
       "C2     2\n",
       "C3     2\n",
       "C4     2\n",
       "C5    14\n",
       "Name: 1, dtype: int32"
      ]
     },
     "execution_count": 19,
     "metadata": {},
     "output_type": "execute_result"
    }
   ],
   "source": [
    "df.xs(1).iloc[1:]"
   ]
  },
  {
   "cell_type": "code",
   "execution_count": 29,
   "metadata": {},
   "outputs": [
    {
     "data": {
      "text/html": [
       "<div>\n",
       "<style scoped>\n",
       "    .dataframe tbody tr th:only-of-type {\n",
       "        vertical-align: middle;\n",
       "    }\n",
       "\n",
       "    .dataframe tbody tr th {\n",
       "        vertical-align: top;\n",
       "    }\n",
       "\n",
       "    .dataframe thead th {\n",
       "        text-align: right;\n",
       "    }\n",
       "</style>\n",
       "<table border=\"1\" class=\"dataframe\">\n",
       "  <thead>\n",
       "    <tr style=\"text-align: right;\">\n",
       "      <th></th>\n",
       "      <th>C1</th>\n",
       "      <th>C2</th>\n",
       "      <th>C3</th>\n",
       "      <th>C4</th>\n",
       "      <th>C5</th>\n",
       "    </tr>\n",
       "  </thead>\n",
       "  <tbody>\n",
       "    <tr>\n",
       "      <th>2</th>\n",
       "      <td>2</td>\n",
       "      <td>17</td>\n",
       "      <td>16</td>\n",
       "      <td>15</td>\n",
       "      <td>4</td>\n",
       "    </tr>\n",
       "    <tr>\n",
       "      <th>4</th>\n",
       "      <td>4</td>\n",
       "      <td>1</td>\n",
       "      <td>13</td>\n",
       "      <td>19</td>\n",
       "      <td>4</td>\n",
       "    </tr>\n",
       "  </tbody>\n",
       "</table>\n",
       "</div>"
      ],
      "text/plain": [
       "   C1  C2  C3  C4  C5\n",
       "2   2  17  16  15   4\n",
       "4   4   1  13  19   4"
      ]
     },
     "execution_count": 29,
     "metadata": {},
     "output_type": "execute_result"
    }
   ],
   "source": [
    "#Query things in\n",
    "df.query('C2 == 1 or C3 == 16')"
   ]
  },
  {
   "cell_type": "markdown",
   "metadata": {},
   "source": [
    "# GroupBy"
   ]
  },
  {
   "cell_type": "code",
   "execution_count": 32,
   "metadata": {},
   "outputs": [
    {
     "data": {
      "text/html": [
       "<div>\n",
       "<style scoped>\n",
       "    .dataframe tbody tr th:only-of-type {\n",
       "        vertical-align: middle;\n",
       "    }\n",
       "\n",
       "    .dataframe tbody tr th {\n",
       "        vertical-align: top;\n",
       "    }\n",
       "\n",
       "    .dataframe thead th {\n",
       "        text-align: right;\n",
       "    }\n",
       "</style>\n",
       "<table border=\"1\" class=\"dataframe\">\n",
       "  <thead>\n",
       "    <tr style=\"text-align: right;\">\n",
       "      <th></th>\n",
       "      <th>C2</th>\n",
       "      <th>C3</th>\n",
       "      <th>C4</th>\n",
       "      <th>C5</th>\n",
       "    </tr>\n",
       "    <tr>\n",
       "      <th>C1</th>\n",
       "      <th></th>\n",
       "      <th></th>\n",
       "      <th></th>\n",
       "      <th></th>\n",
       "    </tr>\n",
       "  </thead>\n",
       "  <tbody>\n",
       "    <tr>\n",
       "      <th>5</th>\n",
       "      <td>7</td>\n",
       "      <td>6</td>\n",
       "      <td>2</td>\n",
       "      <td>10</td>\n",
       "    </tr>\n",
       "    <tr>\n",
       "      <th>10</th>\n",
       "      <td>0</td>\n",
       "      <td>2</td>\n",
       "      <td>19</td>\n",
       "      <td>4</td>\n",
       "    </tr>\n",
       "    <tr>\n",
       "      <th>16</th>\n",
       "      <td>6</td>\n",
       "      <td>5</td>\n",
       "      <td>6</td>\n",
       "      <td>7</td>\n",
       "    </tr>\n",
       "    <tr>\n",
       "      <th>18</th>\n",
       "      <td>17</td>\n",
       "      <td>15</td>\n",
       "      <td>10</td>\n",
       "      <td>22</td>\n",
       "    </tr>\n",
       "  </tbody>\n",
       "</table>\n",
       "</div>"
      ],
      "text/plain": [
       "    C2  C3  C4  C5\n",
       "C1                \n",
       "5    7   6   2  10\n",
       "10   0   2  19   4\n",
       "16   6   5   6   7\n",
       "18  17  15  10  22"
      ]
     },
     "execution_count": 32,
     "metadata": {},
     "output_type": "execute_result"
    }
   ],
   "source": [
    "df = pn.DataFrame(np.random.randint(0,20,(5,5)),\n",
    "                  'R1 R2 R3 R4 R5'.split(), #for splitting type on to list separated by space\n",
    "                  'C1 C2 C3 C4 C5'.split(),\n",
    "                  )\n",
    "dsum = df.groupby(\"C1\").sum()\n",
    "dsum"
   ]
  },
  {
   "cell_type": "code",
   "execution_count": 41,
   "metadata": {},
   "outputs": [
    {
     "data": {
      "text/html": [
       "<div>\n",
       "<style scoped>\n",
       "    .dataframe tbody tr th:only-of-type {\n",
       "        vertical-align: middle;\n",
       "    }\n",
       "\n",
       "    .dataframe tbody tr th {\n",
       "        vertical-align: top;\n",
       "    }\n",
       "\n",
       "    .dataframe thead th {\n",
       "        text-align: right;\n",
       "    }\n",
       "</style>\n",
       "<table border=\"1\" class=\"dataframe\">\n",
       "  <thead>\n",
       "    <tr style=\"text-align: right;\">\n",
       "      <th></th>\n",
       "      <th>count</th>\n",
       "      <th>mean</th>\n",
       "      <th>std</th>\n",
       "      <th>min</th>\n",
       "      <th>25%</th>\n",
       "      <th>50%</th>\n",
       "      <th>75%</th>\n",
       "      <th>max</th>\n",
       "    </tr>\n",
       "  </thead>\n",
       "  <tbody>\n",
       "    <tr>\n",
       "      <th>C1</th>\n",
       "      <td>5.0</td>\n",
       "      <td>13.4</td>\n",
       "      <td>5.727128</td>\n",
       "      <td>5.0</td>\n",
       "      <td>10.0</td>\n",
       "      <td>16.0</td>\n",
       "      <td>18.0</td>\n",
       "      <td>18.0</td>\n",
       "    </tr>\n",
       "    <tr>\n",
       "      <th>C2</th>\n",
       "      <td>5.0</td>\n",
       "      <td>6.0</td>\n",
       "      <td>4.743416</td>\n",
       "      <td>0.0</td>\n",
       "      <td>4.0</td>\n",
       "      <td>6.0</td>\n",
       "      <td>7.0</td>\n",
       "      <td>13.0</td>\n",
       "    </tr>\n",
       "    <tr>\n",
       "      <th>C3</th>\n",
       "      <td>5.0</td>\n",
       "      <td>5.6</td>\n",
       "      <td>3.911521</td>\n",
       "      <td>2.0</td>\n",
       "      <td>3.0</td>\n",
       "      <td>5.0</td>\n",
       "      <td>6.0</td>\n",
       "      <td>12.0</td>\n",
       "    </tr>\n",
       "    <tr>\n",
       "      <th>C4</th>\n",
       "      <td>5.0</td>\n",
       "      <td>7.4</td>\n",
       "      <td>7.231874</td>\n",
       "      <td>1.0</td>\n",
       "      <td>2.0</td>\n",
       "      <td>6.0</td>\n",
       "      <td>9.0</td>\n",
       "      <td>19.0</td>\n",
       "    </tr>\n",
       "    <tr>\n",
       "      <th>C5</th>\n",
       "      <td>5.0</td>\n",
       "      <td>8.6</td>\n",
       "      <td>4.669047</td>\n",
       "      <td>4.0</td>\n",
       "      <td>6.0</td>\n",
       "      <td>7.0</td>\n",
       "      <td>10.0</td>\n",
       "      <td>16.0</td>\n",
       "    </tr>\n",
       "  </tbody>\n",
       "</table>\n",
       "</div>"
      ],
      "text/plain": [
       "    count  mean       std  min   25%   50%   75%   max\n",
       "C1    5.0  13.4  5.727128  5.0  10.0  16.0  18.0  18.0\n",
       "C2    5.0   6.0  4.743416  0.0   4.0   6.0   7.0  13.0\n",
       "C3    5.0   5.6  3.911521  2.0   3.0   5.0   6.0  12.0\n",
       "C4    5.0   7.4  7.231874  1.0   2.0   6.0   9.0  19.0\n",
       "C5    5.0   8.6  4.669047  4.0   6.0   7.0  10.0  16.0"
      ]
     },
     "execution_count": 41,
     "metadata": {},
     "output_type": "execute_result"
    }
   ],
   "source": [
    "#sort = df.sort_values(by=\"C1\", ascending=False)\n",
    "df.index.name = \"44\"\n",
    "df.describe().T # Transpose "
   ]
  },
  {
   "cell_type": "code",
   "execution_count": 42,
   "metadata": {},
   "outputs": [
    {
     "data": {
      "text/html": [
       "<div>\n",
       "<style scoped>\n",
       "    .dataframe tbody tr th:only-of-type {\n",
       "        vertical-align: middle;\n",
       "    }\n",
       "\n",
       "    .dataframe tbody tr th {\n",
       "        vertical-align: top;\n",
       "    }\n",
       "\n",
       "    .dataframe thead th {\n",
       "        text-align: right;\n",
       "    }\n",
       "</style>\n",
       "<table border=\"1\" class=\"dataframe\">\n",
       "  <thead>\n",
       "    <tr style=\"text-align: right;\">\n",
       "      <th></th>\n",
       "      <th>C1</th>\n",
       "      <th>C2</th>\n",
       "      <th>C3</th>\n",
       "      <th>C4</th>\n",
       "      <th>C5</th>\n",
       "    </tr>\n",
       "    <tr>\n",
       "      <th>44</th>\n",
       "      <th></th>\n",
       "      <th></th>\n",
       "      <th></th>\n",
       "      <th></th>\n",
       "      <th></th>\n",
       "    </tr>\n",
       "  </thead>\n",
       "  <tbody>\n",
       "    <tr>\n",
       "      <th>R1</th>\n",
       "      <td>1.0</td>\n",
       "      <td>4.0</td>\n",
       "      <td>4.0</td>\n",
       "      <td>2.0</td>\n",
       "      <td>4.0</td>\n",
       "    </tr>\n",
       "    <tr>\n",
       "      <th>R2</th>\n",
       "      <td>4.5</td>\n",
       "      <td>5.0</td>\n",
       "      <td>5.0</td>\n",
       "      <td>1.0</td>\n",
       "      <td>2.0</td>\n",
       "    </tr>\n",
       "    <tr>\n",
       "      <th>R3</th>\n",
       "      <td>2.0</td>\n",
       "      <td>1.0</td>\n",
       "      <td>1.0</td>\n",
       "      <td>5.0</td>\n",
       "      <td>1.0</td>\n",
       "    </tr>\n",
       "    <tr>\n",
       "      <th>R4</th>\n",
       "      <td>4.5</td>\n",
       "      <td>2.0</td>\n",
       "      <td>2.0</td>\n",
       "      <td>4.0</td>\n",
       "      <td>5.0</td>\n",
       "    </tr>\n",
       "    <tr>\n",
       "      <th>R5</th>\n",
       "      <td>3.0</td>\n",
       "      <td>3.0</td>\n",
       "      <td>3.0</td>\n",
       "      <td>3.0</td>\n",
       "      <td>3.0</td>\n",
       "    </tr>\n",
       "  </tbody>\n",
       "</table>\n",
       "</div>"
      ],
      "text/plain": [
       "     C1   C2   C3   C4   C5\n",
       "44                         \n",
       "R1  1.0  4.0  4.0  2.0  4.0\n",
       "R2  4.5  5.0  5.0  1.0  2.0\n",
       "R3  2.0  1.0  1.0  5.0  1.0\n",
       "R4  4.5  2.0  2.0  4.0  5.0\n",
       "R5  3.0  3.0  3.0  3.0  3.0"
      ]
     },
     "execution_count": 42,
     "metadata": {},
     "output_type": "execute_result"
    }
   ],
   "source": [
    "df.rank(ascending=True)"
   ]
  },
  {
   "cell_type": "markdown",
   "metadata": {},
   "source": [
    "# Merge Concat"
   ]
  },
  {
   "cell_type": "code",
   "execution_count": null,
   "metadata": {},
   "outputs": [],
   "source": [
    "#merge, innerjoin useful for validation \n"
   ]
  },
  {
   "cell_type": "markdown",
   "metadata": {},
   "source": [
    "# Missing Data"
   ]
  },
  {
   "cell_type": "code",
   "execution_count": 1,
   "metadata": {},
   "outputs": [],
   "source": [
    "import numpy as np\n",
    "import pandas as pd\n",
    "import statistics #For mean, median, mode, other statistical data (since walang mode sa numpy)\n",
    "\n",
    "#Treat missing data \n",
    "\n",
    "#Delete (pang rovie[tamad] ako to)\n"
   ]
  },
  {
   "cell_type": "code",
   "execution_count": 7,
   "metadata": {},
   "outputs": [
    {
     "ename": "TypeError",
     "evalue": "unhashable type: 'set'",
     "output_type": "error",
     "traceback": [
      "\u001b[1;31m---------------------------------------------------------------------------\u001b[0m",
      "\u001b[1;31mTypeError\u001b[0m                                 Traceback (most recent call last)",
      "Cell \u001b[1;32mIn[8], line 2\u001b[0m\n\u001b[0;32m      1\u001b[0m \u001b[38;5;66;03m#\u001b[39;00m\n\u001b[1;32m----> 2\u001b[0m df \u001b[38;5;241m=\u001b[39m pd\u001b[38;5;241m.\u001b[39mDataFrame({{\u001b[38;5;241m1\u001b[39m,\u001b[38;5;241m1\u001b[39m,\u001b[38;5;241m1\u001b[39m,\u001b[38;5;241m1\u001b[39m},{\u001b[38;5;241m1\u001b[39m,\u001b[38;5;241m1\u001b[39m,\u001b[38;5;241m1\u001b[39m,\u001b[38;5;241m1\u001b[39m}},\n\u001b[0;32m      3\u001b[0m                   \u001b[38;5;124m'\u001b[39m\u001b[38;5;124mR1\u001b[39m\u001b[38;5;124m'\u001b[39m\u001b[38;5;241m.\u001b[39msplit(), \u001b[38;5;66;03m#for splitting type on to list separated by space\u001b[39;00m\n\u001b[0;32m      4\u001b[0m                   \u001b[38;5;124m'\u001b[39m\u001b[38;5;124mC1 C2 C3 C4\u001b[39m\u001b[38;5;124m'\u001b[39m\u001b[38;5;241m.\u001b[39msplit(),)\n\u001b[0;32m      6\u001b[0m df\n",
      "\u001b[1;31mTypeError\u001b[0m: unhashable type: 'set'"
     ]
    }
   ],
   "source": [
    "#\n",
    "df = pd.DataFrame({{None,None,1,1},{1,1,1,None}},\n",
    "                  'R1'.split(), #for splitting type on to list separated by space\n",
    "                  'C1 C2 C3 C4'.split(),)\n",
    "\n",
    "df"
   ]
  }
 ],
 "metadata": {
  "kernelspec": {
   "display_name": "Python 3",
   "language": "python",
   "name": "python3"
  },
  "language_info": {
   "codemirror_mode": {
    "name": "ipython",
    "version": 3
   },
   "file_extension": ".py",
   "mimetype": "text/x-python",
   "name": "python",
   "nbconvert_exporter": "python",
   "pygments_lexer": "ipython3",
   "version": "3.10.11"
  }
 },
 "nbformat": 4,
 "nbformat_minor": 2
}
