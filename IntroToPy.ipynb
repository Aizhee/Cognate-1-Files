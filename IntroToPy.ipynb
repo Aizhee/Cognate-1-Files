{
 "cells": [
  {
   "cell_type": "markdown",
   "metadata": {},
   "source": [
    "# Introduction to Python Environment and Basics - Part 1 (Activity 1)\n",
    "Aizhar Jamilano     |    3-GF"
   ]
  },
  {
   "cell_type": "markdown",
   "metadata": {},
   "source": [
    "### Section 1:  Python Environment Setup"
   ]
  },
  {
   "cell_type": "code",
   "execution_count": 4,
   "metadata": {},
   "outputs": [
    {
     "name": "stdout",
     "output_type": "stream",
     "text": [
      "hello world\n"
     ]
    }
   ],
   "source": [
    "# 2. Online Setup Via Google Colab\n",
    "print(\"hello world\")"
   ]
  },
  {
   "cell_type": "markdown",
   "metadata": {},
   "source": [
    "### Section 2:  Python Basics - Part 1"
   ]
  },
  {
   "cell_type": "markdown",
   "metadata": {},
   "source": [
    "Data Types & Variables"
   ]
  },
  {
   "cell_type": "code",
   "execution_count": 5,
   "metadata": {},
   "outputs": [
    {
     "name": "stdout",
     "output_type": "stream",
     "text": [
      "5\n",
      "<class 'int'>\n",
      "5.0\n",
      "<class 'float'>\n",
      "Mabuhay, Pilipinas!\n",
      "<class 'str'>\n",
      "True\n",
      "<class 'bool'>\n"
     ]
    }
   ],
   "source": [
    "# 1. Integers\n",
    "x = 5\n",
    "print(x)\n",
    "print(type(x))\n",
    "\n",
    "# 2. Floats\n",
    "y = 5.0\n",
    "print(y)\n",
    "print(type(y))\n",
    "\n",
    "# 3. Strings\n",
    "z = \"Mabuhay, Pilipinas!\"\n",
    "print(z)\n",
    "print(type(z))\n",
    "\n",
    "# 4. Booleans\n",
    "a = True\n",
    "print(a)\n",
    "print(type(a))"
   ]
  },
  {
   "cell_type": "markdown",
   "metadata": {},
   "source": [
    "Printing in Python"
   ]
  },
  {
   "cell_type": "code",
   "execution_count": 6,
   "metadata": {},
   "outputs": [
    {
     "name": "stdout",
     "output_type": "stream",
     "text": [
      "Hello, my name is Aizhar and I am 21 years old.\n"
     ]
    }
   ],
   "source": [
    "#write a script that prints a message that includes variables (F-strings)\n",
    "name = \"Aizhar\"\n",
    "age = 21\n",
    "print(f\"Hello, my name is {name} and I am {age} years old.\")"
   ]
  },
  {
   "cell_type": "markdown",
   "metadata": {},
   "source": [
    "Data Structures: Lists, Dictionaries, Tuples, Sets"
   ]
  },
  {
   "cell_type": "code",
   "execution_count": 7,
   "metadata": {},
   "outputs": [
    {
     "name": "stdout",
     "output_type": "stream",
     "text": [
      "[1, 2, 3, 4, 5, 6]\n",
      "3\n",
      "Aizhar\n",
      "3\n",
      "{1, 2, 3, 4, 5, 6}\n"
     ]
    }
   ],
   "source": [
    "#create examples of each data structure and perform operations like adding elements to list, or retrieving values from a dictionary\n",
    "# 1. Lists\n",
    "list1 = [1, 2, 3, 4, 5]\n",
    "list1.append(6)\n",
    "print(list1)\n",
    "print(list1[2])\n",
    "\n",
    "# 2. Dictionaries\n",
    "dict1 = {\"name\": \"Aizhar\", \"age\": 21}\n",
    "print(dict1[\"name\"])\n",
    "\n",
    "# 3. Tuples\n",
    "tuple1 = (1, 2, 3, 4, 5)\n",
    "print(tuple1[2])\n",
    "\n",
    "# 4. Sets\n",
    "set1 = {1, 2, 3, 4, 5}\n",
    "set1.add(6)\n",
    "print(set1)"
   ]
  },
  {
   "cell_type": "markdown",
   "metadata": {},
   "source": [
    "Boolean Values and Operators"
   ]
  },
  {
   "cell_type": "code",
   "execution_count": 8,
   "metadata": {},
   "outputs": [
    {
     "name": "stdout",
     "output_type": "stream",
     "text": [
      "False\n",
      "True\n",
      "True\n"
     ]
    }
   ],
   "source": [
    "# write scripts that compare values using logical operators to compare conditions\n",
    "x = 5\n",
    "y = 10\n",
    "z=5\n",
    "#check if x is greater than y and equal to z\n",
    "print(x > y and x == z)\n",
    "\n",
    "#check if x is greater than y or equal to z\n",
    "print(x > y or x == z)\n",
    "\n",
    "#check if x is not equal to y\n",
    "print(x != y)"
   ]
  },
  {
   "cell_type": "markdown",
   "metadata": {},
   "source": [
    "IF Statements and Loops"
   ]
  },
  {
   "cell_type": "code",
   "execution_count": 9,
   "metadata": {},
   "outputs": [
    {
     "name": "stdout",
     "output_type": "stream",
     "text": [
      "The number is positive.\n",
      "The number is in the list.\n"
     ]
    }
   ],
   "source": [
    "# code that gets user input and performs operations with the input using if-else statements and loops\n",
    "input1 = input(\"Enter a number: \")\n",
    "\n",
    "if int(input1) > 0:\n",
    "    print(\"The number is positive.\")\n",
    "    #check if the number is in the list (using a loop)\n",
    "    list2 = [1, 2, 3, 4, 5]\n",
    "    for i in list2:\n",
    "        if i == int(input1):\n",
    "            print(\"The number is in the list.\")\n",
    "            break\n",
    "    else:\n",
    "        print(\"The number is not in the list.\")\n",
    "else:\n",
    "    print(\"The number is negative.\")\n",
    "    #using while loop to multiple a range of numbers by the input number\n",
    "    i = 1\n",
    "    while i <= 5:\n",
    "        print(i * int(input1))\n",
    "        i += 1"
   ]
  }
 ],
 "metadata": {
  "kernelspec": {
   "display_name": "Python 3",
   "language": "python",
   "name": "python3"
  },
  "language_info": {
   "codemirror_mode": {
    "name": "ipython",
    "version": 3
   },
   "file_extension": ".py",
   "mimetype": "text/x-python",
   "name": "python",
   "nbconvert_exporter": "python",
   "pygments_lexer": "ipython3",
   "version": "3.10.11"
  }
 },
 "nbformat": 4,
 "nbformat_minor": 2
}
